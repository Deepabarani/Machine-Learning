{
  "nbformat": 4,
  "nbformat_minor": 0,
  "metadata": {
    "colab": {
      "provenance": [],
      "authorship_tag": "ABX9TyPdpKThb6nv3KhK7Ei/Nv9M",
      "include_colab_link": true
    },
    "kernelspec": {
      "name": "python3",
      "display_name": "Python 3"
    },
    "language_info": {
      "name": "python"
    }
  },
  "cells": [
    {
      "cell_type": "markdown",
      "metadata": {
        "id": "view-in-github",
        "colab_type": "text"
      },
      "source": [
        "<a href=\"https://colab.research.google.com/github/Deepabarani/Machine-Learning/blob/main/Train_Test_Split.ipynb\" target=\"_parent\"><img src=\"https://colab.research.google.com/assets/colab-badge.svg\" alt=\"Open In Colab\"/></a>"
      ]
    },
    {
      "cell_type": "code",
      "execution_count": null,
      "metadata": {
        "id": "iLI6WEa7dcgB"
      },
      "outputs": [],
      "source": [
        "import pandas as pd\n"
      ]
    },
    {
      "cell_type": "code",
      "source": [
        "from sklearn.model_selection import train_test_split"
      ],
      "metadata": {
        "id": "8qNqO8pzdp2Y"
      },
      "execution_count": null,
      "outputs": []
    },
    {
      "cell_type": "code",
      "source": [
        "data ={\n",
        "    'f1' : [1,2,3,4,5,6],\n",
        "    'f2': [6,5,4,3,2,1],\n",
        "    'target': [0,0,1,0,1,0]\n",
        "}"
      ],
      "metadata": {
        "id": "Q4Vq0G01dwmC"
      },
      "execution_count": null,
      "outputs": []
    },
    {
      "cell_type": "code",
      "source": [
        "df = pd.DataFrame(data)"
      ],
      "metadata": {
        "id": "44CUbuO1eAEI"
      },
      "execution_count": null,
      "outputs": []
    },
    {
      "cell_type": "code",
      "source": [
        "X = df[['f1', 'f2']]\n",
        "y = df[['target']]"
      ],
      "metadata": {
        "id": "-a-_mqnkeQCO"
      },
      "execution_count": null,
      "outputs": []
    },
    {
      "cell_type": "code",
      "source": [
        "X_train, X_test, y_train, y_test = train_test_split(X, y, test_size=0.25, random_state=42)"
      ],
      "metadata": {
        "id": "WSpGbgOvekYH"
      },
      "execution_count": null,
      "outputs": []
    },
    {
      "cell_type": "code",
      "source": [
        "print(X_train)\n",
        "print(X_test)\n",
        "print(y_train)\n",
        "print(y_test)"
      ],
      "metadata": {
        "id": "gidUGaGtgNRB",
        "outputId": "3bdebdd6-a0f6-49f7-ae06-39b7483c49c7",
        "colab": {
          "base_uri": "https://localhost:8080/"
        }
      },
      "execution_count": null,
      "outputs": [
        {
          "output_type": "stream",
          "name": "stdout",
          "text": [
            "   f1  f2\n",
            "5   6   1\n",
            "2   3   4\n",
            "4   5   2\n",
            "3   4   3\n",
            "   f1  f2\n",
            "0   1   6\n",
            "1   2   5\n",
            "   target\n",
            "5       0\n",
            "2       1\n",
            "4       1\n",
            "3       0\n",
            "   target\n",
            "0       0\n",
            "1       0\n"
          ]
        }
      ]
    }
  ]
}